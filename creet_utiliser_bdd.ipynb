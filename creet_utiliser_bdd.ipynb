{
 "cells": [
  {
   "cell_type": "code",
   "execution_count": 2,
   "metadata": {},
   "outputs": [],
   "source": [
    "import pandas as pd\n",
    "import mysql.connector\n",
    "from mysql.connector import Error"
   ]
  },
  {
   "cell_type": "code",
   "execution_count": 3,
   "metadata": {},
   "outputs": [],
   "source": [
    "# Fonction pour établir la connexion à la base de données\n",
    "def create_connection(host, user, password, database):\n",
    "    try:\n",
    "        connection = mysql.connector.connect(\n",
    "            host=host,\n",
    "            user=user,\n",
    "            password=password,\n",
    "            database=database\n",
    "        )\n",
    "        if connection.is_connected():\n",
    "            print(f\"Connected to MySQL Server: {host} with database: {database}\")\n",
    "            return connection\n",
    "    except Error as e:\n",
    "        print(f\"Error: {e}\")\n",
    "        return None"
   ]
  },
  {
   "cell_type": "code",
   "execution_count": 4,
   "metadata": {},
   "outputs": [],
   "source": [
    "# Fonction pour exécuter une requête SQL\n",
    "def execute_query(connection, query):\n",
    "    try:\n",
    "        cursor = connection.cursor()\n",
    "        cursor.execute(query)\n",
    "        connection.commit()\n",
    "        print(\"Query executed successfully\")\n",
    "    except Error as e:\n",
    "        print(f\"Error: {e}\")"
   ]
  },
  {
   "cell_type": "code",
   "execution_count": 5,
   "metadata": {},
   "outputs": [],
   "source": [
    "# Création de la base de données et des tables\n",
    "def create_database_tables(connection):\n",
    "    create_database_query = \"CREATE DATABASE IF NOT EXISTS films_database\"\n",
    "    execute_query(connection, create_database_query)\n",
    "\n",
    "    use_database_query = \"USE films_database\"\n",
    "    execute_query(connection, use_database_query)\n",
    "\n",
    "    create_movies_table_query = \"\"\"\n",
    "    CREATE TABLE IF NOT EXISTS movies (\n",
    "        id INT AUTO_INCREMENT PRIMARY KEY,\n",
    "        title VARCHAR(255) NOT NULL,\n",
    "        release_year INT,\n",
    "        genre VARCHAR(255),\n",
    "        director VARCHAR(255),\n",
    "        imdb_rating FLOAT,\n",
    "        keywords VARCHAR(255),\n",
    "        country VARCHAR(255),\n",
    "        revenue FLOAT\n",
    "    )\n",
    "    \"\"\"\n",
    "    execute_query(connection, create_movies_table_query)\n",
    "\n",
    "    create_actors_table_query = \"\"\"\n",
    "    CREATE TABLE IF NOT EXISTS actors (\n",
    "        id INT AUTO_INCREMENT PRIMARY KEY,\n",
    "        name VARCHAR(255) NOT NULL,\n",
    "        movie_id INT,\n",
    "        FOREIGN KEY (movie_id) REFERENCES movies(id)\n",
    "    )\n",
    "    \"\"\"\n",
    "    execute_query(connection, create_actors_table_query)"
   ]
  },
  {
   "cell_type": "code",
   "execution_count": 6,
   "metadata": {},
   "outputs": [],
   "source": [
    "# Chargement des données depuis un fichier CSV dans la base de données\n",
    "def load_data_into_tables(connection, movies_data):\n",
    "    for _, row in movies_data.iterrows():\n",
    "        movie_values = [row[\"title\"], row[\"release_year\"], row[\"genre\"], row[\"director\"], row[\"imdb_rating\"], row[\"keywords\"], row[\"country\"], row[\"revenue\"]]\n",
    "        create_record(connection, \"movies\", movie_values)\n",
    "        movie_id = get_last_inserted_id(connection)\n",
    "\n",
    "        actors = row[\"actors\"].split(\", \")\n",
    "        for actor in actors:\n",
    "            create_record(connection, \"actors\", [actor, movie_id])\n"
   ]
  },
  {
   "cell_type": "code",
   "execution_count": 7,
   "metadata": {},
   "outputs": [],
   "source": [
    "# Fonction pour obtenir le dernier ID inséré dans une table\n",
    "def get_last_inserted_id(connection):\n",
    "    cursor = connection.cursor()\n",
    "    cursor.execute(\"SELECT LAST_INSERT_ID()\")\n",
    "    last_inserted_id = cursor.fetchone()[0]\n",
    "    return last_inserted_id"
   ]
  },
  {
   "cell_type": "code",
   "execution_count": 8,
   "metadata": {},
   "outputs": [],
   "source": [
    "# Fonction pour créer un enregistrement dans une table\n",
    "def create_record(connection, table_name, values):\n",
    "    values_str = ', '.join([f\"'{str(value)}'\" for value in values])\n",
    "    insert_query = f\"INSERT INTO {table_name} VALUES (NULL, {values_str})\"\n",
    "    execute_query(connection, insert_query)"
   ]
  },
  {
   "cell_type": "code",
   "execution_count": 9,
   "metadata": {},
   "outputs": [],
   "source": [
    "# Fonction pour exécuter une opération de lecture (Read)\n",
    "def read_records(connection, query):\n",
    "    cursor = connection.cursor(dictionary=True)\n",
    "    cursor.execute(query)\n",
    "    records = cursor.fetchall()\n",
    "    return records"
   ]
  },
  {
   "cell_type": "code",
   "execution_count": 10,
   "metadata": {},
   "outputs": [],
   "source": [
    "# Paramètres de connexion à la base de données\n",
    "host = \"localhost\"\n",
    "user = \"root\"\n",
    "password = \"toor\""
   ]
  },
  {
   "cell_type": "code",
   "execution_count": 11,
   "metadata": {},
   "outputs": [
    {
     "name": "stdout",
     "output_type": "stream",
     "text": [
      "Connected to MySQL Server: localhost with database: None\n"
     ]
    }
   ],
   "source": [
    "# Connexion à la base de données\n",
    "connection = create_connection(host, user, password, None)"
   ]
  },
  {
   "cell_type": "code",
   "execution_count": 12,
   "metadata": {},
   "outputs": [
    {
     "name": "stdout",
     "output_type": "stream",
     "text": [
      "Query executed successfully\n",
      "Query executed successfully\n",
      "Query executed successfully\n",
      "Query executed successfully\n"
     ]
    }
   ],
   "source": [
    "# Création de la base de données et des tables\n",
    "create_database_tables(connection)"
   ]
  },
  {
   "cell_type": "code",
   "execution_count": 13,
   "metadata": {},
   "outputs": [
    {
     "name": "stdout",
     "output_type": "stream",
     "text": [
      "Connected to MySQL Server: localhost with database: films_database\n"
     ]
    }
   ],
   "source": [
    "# Utilisation de la base de données\n",
    "connection = create_connection(host, user, password, \"films_database\")"
   ]
  },
  {
   "cell_type": "code",
   "execution_count": 14,
   "metadata": {},
   "outputs": [],
   "source": [
    "# Charger les données depuis le fichier CSV\n",
    "try:\n",
    "    movies_data = pd.read_csv('movies_imdb.csv', encoding='utf-8', sep=',')\n",
    "except pd.errors.ParserError:\n",
    "    print(\"Une erreur s'est produite lors de la lecture du fichier CSV.\")\n",
    "    # Gérer l'erreur ici, comme ignorer la ligne ou afficher un message d'erreur"
   ]
  },
  {
   "cell_type": "code",
   "execution_count": 16,
   "metadata": {},
   "outputs": [
    {
     "name": "stdout",
     "output_type": "stream",
     "text": [
      "Top 10 des films les plus rentables :\n"
     ]
    }
   ],
   "source": [
    "# Requêtes SQL pour répondre aux demandes\n",
    "# Exemple : Top 10 des films les plus rentables\n",
    "query_top_10_profitable_movies = \"\"\"\n",
    "SELECT title, revenue\n",
    "FROM movies\n",
    "ORDER BY revenue DESC\n",
    "LIMIT 10\n",
    "\"\"\"\n",
    "top_10_profitable_movies = read_records(connection, query_top_10_profitable_movies)\n",
    "print(\"Top 10 des films les plus rentables :\")\n",
    "for movie in top_10_profitable_movies:\n",
    "    print(movie[\"title\"], \"-\", movie[\"revenue\"])"
   ]
  },
  {
   "cell_type": "code",
   "execution_count": null,
   "metadata": {},
   "outputs": [],
   "source": []
  }
 ],
 "metadata": {
  "kernelspec": {
   "display_name": "myenv",
   "language": "python",
   "name": "python3"
  },
  "language_info": {
   "codemirror_mode": {
    "name": "ipython",
    "version": 3
   },
   "file_extension": ".py",
   "mimetype": "text/x-python",
   "name": "python",
   "nbconvert_exporter": "python",
   "pygments_lexer": "ipython3",
   "version": "3.11.3"
  }
 },
 "nbformat": 4,
 "nbformat_minor": 2
}
